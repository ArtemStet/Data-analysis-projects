{
  "cells": [
    {
      "cell_type": "markdown",
      "metadata": {
        "id": "IGroNc0Uy0_K"
      },
      "source": [
        "# Sprint 1: Data & Python\n",
        "## Part 6: Iris Clustering Project\n",
        "\n",
        "*\\[Estimated time to complete - 3 hours\\]*\n",
        "\n",
        "<br>\n"
      ]
    },
    {
      "cell_type": "markdown",
      "metadata": {
        "id": "G5m38yb9y0_P"
      },
      "source": [
        "## Your first Project\n",
        "\n",
        "Welcome to your very first Project Part! You will practice what you've learned about Python and k-means clustering.\n",
        "\n",
        "This project will test a number of skills that will be important throughout your career as a data scientist: organizing, formatting, grouping, filtering, and clustering data.\n",
        "\n",
        "More specifically, in data science, **data** is usually the key component. Knowing how to wrangle your data is not only useful but allows us to think about the type of data analysis and machine learning modelling that is going to be the most effective.\n",
        "\n",
        "**Important: if you registered to Turing College Data Science trial before  April 22nd, 2022, you may have old versions of Parts 4 and 5 of this Sprint. Before starting this exercise, check the following notebooks, as going through them will make completing this project much easier: [Part 4](https://github.com/TuringCollegeSubmissions/DWPP.1.4), [Part 5](https://github.com/TuringCollegeSubmissions/DWPP.1.5).**\n",
        "\n",
        "\n",
        "## Objective\n",
        "\n",
        "Your objective in this project is to cluster the species of iris flower in the Iris Dataset into three clusters. The dataset contains the `labels` feature, which can help you evaluate the performance of your algorithm. \n",
        "\n",
        "\n",
        "## About the dataset\n",
        "\n",
        "This is a well-known dataset in the machine learning world, popular because of its simplicity. The dataset doesn't have any missing values, categorical variables, or anything else that requires data preprocessing.\n",
        "\n",
        "\n",
        "## How to get the data\n",
        "\n",
        "There are multiple ways to get this dataset, but one of the most convenient is to use [scikit-learn's datasets](https://scikit-learn.org/stable/modules/generated/sklearn.datasets.load_iris.html#sklearn.datasets.load_iris). It is ok if you are not familiar with scikit-learn - it is already installed by default on Google Colab and you only need to use one function to get the data. We recommend using this approach, because it is relatively simple, but if you are comfortable with an alternative (e.g., loading this dataset from Kaggle, GitHub, TensorFlow, etc.) or would like to experiment a bit more you are free to do use alternative ways to get the data.\n",
        "\n",
        "\n",
        "## Clustering\n",
        "\n",
        "You will need to use what you learned in the \"Big Ideas and Little Code in Python Lesson 4: Implementing k-means Unsupervised Machine Learning\" lesson and implement your k-means clustering algorithm. If you know how to use a library (e.g., scikit-learn, scipy, etc.) to implement the k-means algorithm and would like to see if your implementation provides similar clusters, we encourage you to try to use it only *after* you have implemented the algorithm yourself. \n",
        "\n",
        "\n",
        "## Clusters vs. labels\n",
        "\n",
        "The dataset also provides a `labels` column (feature). To understand if your clusters make sense, you should see the distributions of the labels in each of your clusters. This will help you debug your code and evaluate the performance of your algorithm.\n",
        "\n",
        "\n",
        "## Visualizations and tools\n",
        "\n",
        "If you have experience working with visualization libraries (e.g., matplotlib, seaborn, etc.) or libraries used for data manipulation (e.g., NumPy, pandas, etc.) feel free to use them in your project. Using these tools is not a requirement and won't get you any additional points, so don't try to use any tool that you don't feel comfortable with."
      ]
    },
    {
      "cell_type": "markdown",
      "metadata": {
        "id": "-m7Kugci-zgr"
      },
      "source": [
        "## Requirements\n",
        "\n",
        "- Load the Iris Dataset. \n",
        "- Implement the k-means clustering algorithm to cluster all data points into three clusters.\n",
        "- Inspect the distribution of labels in each of your clusters.\n",
        "- Describe what your functions do (preferably using docstrings).\n",
        "- Use meaningful variable names that will help others understand your code.\n",
        "- Be ready to discuss ways in which your code could be improved further.\n",
        "\n",
        "<br>\n",
        "\n",
        "## Evaluation Criteria\n",
        "\n",
        "- Adherence to the requirements. How well did you meet the requirements?\n",
        "- Code quality. You will be given tips on whether:\n",
        "   - the code is well-structured;\n",
        "   - commented-out and unused code is removed;\n",
        "   - the code is easy to read.\n",
        "\n",
        "- Code performance. You will be given tips on whether:\n",
        "   - Suitable algorithms and data structures were used.\n",
        "\n",
        "<br>\n",
        "\n",
        "## Making changes through Google Colab\n",
        "\n",
        "This notebook that you are reading right now is an individual copy made for you. It is the only source a reviewer will use for your code review. You should therefore save all the progress that you make here by having it open in Google Colab, making the changes there, by selecting \"File\"->\"Save a Copy to GitHub\". For a detailed explanation on all the steps required for saving a project, watch this video: [How to save your progress](https://bit.ly/3mD1Xme)\n",
        "\n",
        "To open this notebook in Google Colab, use the Google Colab button in the Turing Platform. The first time you open a Github repository through Google Colab can be a bit messy, though. We recommend either watching [this video](https://bit.ly/3lomUSF) or following the instructions below:\n",
        "\n",
        "1. Go to http://colab.research.google.com/github, and check the ‘Include private repos’ box. If you see any error messages, keep clicking ‘Retry.’ You should eventually authenticate with your Github account and see your GitHub username & have ‘Include private repos’ checked.\n",
        "2. Close the window & click ‘Google Colab’ on the platform. You might continue to see Authentication error messages. Just go through them by clicking ‘Retry’ and authenticating with your GitHub account.\n",
        "3. At some point, you are likely to see a pop-up being blocked. Allow all pop-ups from Google Colab in your browser.\n",
        "4. You should be in the notebook and have its contents visible!\n",
        "\n",
        "---\n",
        "\n",
        "If there are still any things that are unclear, we will be more than happy to help you through Discord ([#product-support](https://discord.com/channels/722762519911071744/769150893782204427)), in stand-ups and in open sessions.\n",
        "\n",
        "<br>\n",
        "\n",
        "## Submission and scheduling a correction\n",
        "\n",
        "Before submitting your project, double check that you have saved your progress to your GitHub repository. A good way to do that is to open the GitHub link to your repository (available in the Turing Platform) instead of the Google Colab one, or by simply refreshing the platform and checking if the notebook preview has your updates. If you see the changes there, you are good to go! Note that reviewers are allowed to only evaluate the work that you have submitted,and that once you submit your project, you are no longer allowed to make any changes, so this step is really important.\n",
        "\n",
        "Once you have completed a project and double-checked that it is saved in your GitHub repository, go to the Turing Platform and click the button to complete it. The platform then allows you to see the times when reviewers are available to have a call with you and review the project. Simply book a time that suits you. If there are no times available, feel free to message us in the [#education_support](https://discord.com/channels/722762519911071744/769151570687688704) channel on Discord — we will make sure that a reviewer adds a time for you.\n",
        "\n",
        "Once you schedule a project review, you immediately get access to the next notebook directly via GitHub so that you can continue learning while waiting. For the second Sprint's first notebook, the URL is: https://github.com/TuringCollegeSubmissions/DWPP.2.1/blob/main/DWPP.2.1.ipynb\n",
        "\n",
        "<br>\n",
        "\n",
        "## What to expect during a code review?\n",
        "\n",
        "The most common structure for a code review is for the learner to go through their project while sharing their screen, presenting how each part was done and what insights were achieved. The reviewer asks questions to check whether the learner really understands the relevant parts of the project, and assigns a rating from 1 to 5 for each of the evaluation criteria. On average, a review like this takes 30 minutes to complete, but the time can differ based on the project and amount of feedback.\n",
        "\n",
        "The goal of a correction is to test the current limits of your knowledge and give you personalised feedback on how to improve further. Expect the reviewer to give you tips on how to improve things, even if you did everything perfectly according to the criteria. We also very strongly advise you to let the reviewer know if you feel unsure about some parts of your knowledge, instead of trying to hide it — this is the best way to improve as the reviewer will be able to confirm or reject your assumptions, while you will not be losing anything by potentially getting a lower score.\n",
        "\n",
        "To pass a correction and unlock the next sprint, you need to achieve a score of 70% or more. If you fail the project, you will be given write access to your repository once again and will be expected to make adjustments based on the feedback received. Once the changes are made, you will be able to submit the project once again and schedule a new code review — as mentioned before, a low score, even a failing one, is nothing to worry about, as you will be able to move forward as soon as you are ready to do so.\n",
        "\n",
        "<br>\n",
        "\n",
        "## Sample Correction Questions\n",
        "\n",
        "During a correction, you may get asked questions that test your understanding of all the topics covered in this sprint (even if they were not directly used in this project).\n",
        "\n",
        "- What are the most important functions of the statistics library?\n",
        "- How to find a character in a string?\n",
        "- How to calculate factorial using Python?\n",
        "- What does a specific line of code in your solution do?\n",
        "\n",
        "<br>\n",
        "\n",
        "## Your application to Turing College\n",
        "\n",
        "After you successfully complete the project, you will get access to the next part which will require you to book an interview with a member of the Turing College staff. This will be the final step of the admissions process. \n",
        "\n",
        "Note, that before the interview, we will be reviewing your learning data and feedback from other learners and Junior Team Leads. In some cases, when our data suggests that you are not yet ready to join the full course, you can receive our decision before interview takes place. In such case, you would *receive an email* clearly stating such process outcome and your interview, if any, would be cancelled. If a meeting gets cancelled without such email, feel free to book a new one, as it usually means the availability of our staff members has changed.\n",
        "\n",
        "## Source\n",
        "\n",
        "This exercise is inspired by Big Ideas and Little Code in Python by Raymond Hettinger.\n",
        "\n",
        "<br>\n",
        "\n",
        "## Your Solution"
      ]
    },
    {
      "cell_type": "code",
      "execution_count": 1,
      "metadata": {
        "id": "VIqP8p1dAumS"
      },
      "outputs": [],
      "source": [
        "# Write your solution below\n",
        "# First, we'll import pandas, a data processing and CSV file I/O library\n",
        "import pandas as pd\n",
        "\n",
        "# We'll also import seaborn, a Python graphing library\n",
        "import warnings # current version of seaborn generates a bunch of warnings that we'll ignore\n",
        "warnings.filterwarnings(\"ignore\")\n",
        "import seaborn as sns\n",
        "import matplotlib.pyplot as plt\n",
        "from sklearn.datasets import load_iris\n",
        "import numpy as np\n",
        "from math import sqrt\n",
        "from collections import defaultdict\n"
      ]
    },
    {
      "cell_type": "code",
      "source": [
        "iris = load_iris()\n",
        "df = pd.DataFrame(data= np.c_[iris['data'], iris['target']],\n",
        "                     columns= iris['feature_names'] + ['target'])\n",
        "df.head()"
      ],
      "metadata": {
        "colab": {
          "base_uri": "https://localhost:8080/",
          "height": 206
        },
        "id": "2b0z16Y-u6Zh",
        "outputId": "b488abbe-3e5d-4443-c9f4-31ec322aa86b"
      },
      "execution_count": 2,
      "outputs": [
        {
          "output_type": "execute_result",
          "data": {
            "text/plain": [
              "   sepal length (cm)  sepal width (cm)  petal length (cm)  petal width (cm)  \\\n",
              "0                5.1               3.5                1.4               0.2   \n",
              "1                4.9               3.0                1.4               0.2   \n",
              "2                4.7               3.2                1.3               0.2   \n",
              "3                4.6               3.1                1.5               0.2   \n",
              "4                5.0               3.6                1.4               0.2   \n",
              "\n",
              "   target  \n",
              "0     0.0  \n",
              "1     0.0  \n",
              "2     0.0  \n",
              "3     0.0  \n",
              "4     0.0  "
            ],
            "text/html": [
              "\n",
              "  <div id=\"df-ff575acc-7673-456a-a716-f9cb9bf7aac9\">\n",
              "    <div class=\"colab-df-container\">\n",
              "      <div>\n",
              "<style scoped>\n",
              "    .dataframe tbody tr th:only-of-type {\n",
              "        vertical-align: middle;\n",
              "    }\n",
              "\n",
              "    .dataframe tbody tr th {\n",
              "        vertical-align: top;\n",
              "    }\n",
              "\n",
              "    .dataframe thead th {\n",
              "        text-align: right;\n",
              "    }\n",
              "</style>\n",
              "<table border=\"1\" class=\"dataframe\">\n",
              "  <thead>\n",
              "    <tr style=\"text-align: right;\">\n",
              "      <th></th>\n",
              "      <th>sepal length (cm)</th>\n",
              "      <th>sepal width (cm)</th>\n",
              "      <th>petal length (cm)</th>\n",
              "      <th>petal width (cm)</th>\n",
              "      <th>target</th>\n",
              "    </tr>\n",
              "  </thead>\n",
              "  <tbody>\n",
              "    <tr>\n",
              "      <th>0</th>\n",
              "      <td>5.1</td>\n",
              "      <td>3.5</td>\n",
              "      <td>1.4</td>\n",
              "      <td>0.2</td>\n",
              "      <td>0.0</td>\n",
              "    </tr>\n",
              "    <tr>\n",
              "      <th>1</th>\n",
              "      <td>4.9</td>\n",
              "      <td>3.0</td>\n",
              "      <td>1.4</td>\n",
              "      <td>0.2</td>\n",
              "      <td>0.0</td>\n",
              "    </tr>\n",
              "    <tr>\n",
              "      <th>2</th>\n",
              "      <td>4.7</td>\n",
              "      <td>3.2</td>\n",
              "      <td>1.3</td>\n",
              "      <td>0.2</td>\n",
              "      <td>0.0</td>\n",
              "    </tr>\n",
              "    <tr>\n",
              "      <th>3</th>\n",
              "      <td>4.6</td>\n",
              "      <td>3.1</td>\n",
              "      <td>1.5</td>\n",
              "      <td>0.2</td>\n",
              "      <td>0.0</td>\n",
              "    </tr>\n",
              "    <tr>\n",
              "      <th>4</th>\n",
              "      <td>5.0</td>\n",
              "      <td>3.6</td>\n",
              "      <td>1.4</td>\n",
              "      <td>0.2</td>\n",
              "      <td>0.0</td>\n",
              "    </tr>\n",
              "  </tbody>\n",
              "</table>\n",
              "</div>\n",
              "      <button class=\"colab-df-convert\" onclick=\"convertToInteractive('df-ff575acc-7673-456a-a716-f9cb9bf7aac9')\"\n",
              "              title=\"Convert this dataframe to an interactive table.\"\n",
              "              style=\"display:none;\">\n",
              "        \n",
              "  <svg xmlns=\"http://www.w3.org/2000/svg\" height=\"24px\"viewBox=\"0 0 24 24\"\n",
              "       width=\"24px\">\n",
              "    <path d=\"M0 0h24v24H0V0z\" fill=\"none\"/>\n",
              "    <path d=\"M18.56 5.44l.94 2.06.94-2.06 2.06-.94-2.06-.94-.94-2.06-.94 2.06-2.06.94zm-11 1L8.5 8.5l.94-2.06 2.06-.94-2.06-.94L8.5 2.5l-.94 2.06-2.06.94zm10 10l.94 2.06.94-2.06 2.06-.94-2.06-.94-.94-2.06-.94 2.06-2.06.94z\"/><path d=\"M17.41 7.96l-1.37-1.37c-.4-.4-.92-.59-1.43-.59-.52 0-1.04.2-1.43.59L10.3 9.45l-7.72 7.72c-.78.78-.78 2.05 0 2.83L4 21.41c.39.39.9.59 1.41.59.51 0 1.02-.2 1.41-.59l7.78-7.78 2.81-2.81c.8-.78.8-2.07 0-2.86zM5.41 20L4 18.59l7.72-7.72 1.47 1.35L5.41 20z\"/>\n",
              "  </svg>\n",
              "      </button>\n",
              "      \n",
              "  <style>\n",
              "    .colab-df-container {\n",
              "      display:flex;\n",
              "      flex-wrap:wrap;\n",
              "      gap: 12px;\n",
              "    }\n",
              "\n",
              "    .colab-df-convert {\n",
              "      background-color: #E8F0FE;\n",
              "      border: none;\n",
              "      border-radius: 50%;\n",
              "      cursor: pointer;\n",
              "      display: none;\n",
              "      fill: #1967D2;\n",
              "      height: 32px;\n",
              "      padding: 0 0 0 0;\n",
              "      width: 32px;\n",
              "    }\n",
              "\n",
              "    .colab-df-convert:hover {\n",
              "      background-color: #E2EBFA;\n",
              "      box-shadow: 0px 1px 2px rgba(60, 64, 67, 0.3), 0px 1px 3px 1px rgba(60, 64, 67, 0.15);\n",
              "      fill: #174EA6;\n",
              "    }\n",
              "\n",
              "    [theme=dark] .colab-df-convert {\n",
              "      background-color: #3B4455;\n",
              "      fill: #D2E3FC;\n",
              "    }\n",
              "\n",
              "    [theme=dark] .colab-df-convert:hover {\n",
              "      background-color: #434B5C;\n",
              "      box-shadow: 0px 1px 3px 1px rgba(0, 0, 0, 0.15);\n",
              "      filter: drop-shadow(0px 1px 2px rgba(0, 0, 0, 0.3));\n",
              "      fill: #FFFFFF;\n",
              "    }\n",
              "  </style>\n",
              "\n",
              "      <script>\n",
              "        const buttonEl =\n",
              "          document.querySelector('#df-ff575acc-7673-456a-a716-f9cb9bf7aac9 button.colab-df-convert');\n",
              "        buttonEl.style.display =\n",
              "          google.colab.kernel.accessAllowed ? 'block' : 'none';\n",
              "\n",
              "        async function convertToInteractive(key) {\n",
              "          const element = document.querySelector('#df-ff575acc-7673-456a-a716-f9cb9bf7aac9');\n",
              "          const dataTable =\n",
              "            await google.colab.kernel.invokeFunction('convertToInteractive',\n",
              "                                                     [key], {});\n",
              "          if (!dataTable) return;\n",
              "\n",
              "          const docLinkHtml = 'Like what you see? Visit the ' +\n",
              "            '<a target=\"_blank\" href=https://colab.research.google.com/notebooks/data_table.ipynb>data table notebook</a>'\n",
              "            + ' to learn more about interactive tables.';\n",
              "          element.innerHTML = '';\n",
              "          dataTable['output_type'] = 'display_data';\n",
              "          await google.colab.output.renderOutput(dataTable, element);\n",
              "          const docLink = document.createElement('div');\n",
              "          docLink.innerHTML = docLinkHtml;\n",
              "          element.appendChild(docLink);\n",
              "        }\n",
              "      </script>\n",
              "    </div>\n",
              "  </div>\n",
              "  "
            ]
          },
          "metadata": {},
          "execution_count": 2
        }
      ]
    },
    {
      "cell_type": "code",
      "source": [
        "df.columns = ['sepal_length', 'sepal_width', 'petal_length', 'petal_width', 'target']"
      ],
      "metadata": {
        "id": "IhiOWE9Q5oUr"
      },
      "execution_count": 3,
      "outputs": []
    },
    {
      "cell_type": "code",
      "source": [
        "sns.jointplot(x=\"sepal_length\", y=\"sepal_width\", data=df, hue='target')"
      ],
      "metadata": {
        "colab": {
          "base_uri": "https://localhost:8080/",
          "height": 458
        },
        "id": "lSuMR87B-4YU",
        "outputId": "d0fbda43-e257-4c33-cde9-dc36b0cb3ef1"
      },
      "execution_count": 4,
      "outputs": [
        {
          "output_type": "execute_result",
          "data": {
            "text/plain": [
              "<seaborn.axisgrid.JointGrid at 0x7f2611d987d0>"
            ]
          },
          "metadata": {},
          "execution_count": 4
        },
        {
          "output_type": "display_data",
          "data": {
            "text/plain": [
              "<Figure size 432x432 with 3 Axes>"
            ],
            "image/png": "[encoded data removed]"
          },
          "metadata": {
            "needs_background": "light"
          }
        }
      ]
    },
    {
      "cell_type": "code",
      "source": [
        "sns.jointplot(x=\"petal_length\", y=\"petal_width\", data=df, hue='target')"
      ],
      "metadata": {
        "colab": {
          "base_uri": "https://localhost:8080/",
          "height": 458
        },
        "id": "PsOEO_tm_dFD",
        "outputId": "57b0e8b1-882e-4bfb-9fd2-7c6832740bbf"
      },
      "execution_count": 5,
      "outputs": [
        {
          "output_type": "execute_result",
          "data": {
            "text/plain": [
              "<seaborn.axisgrid.JointGrid at 0x7f260d341990>"
            ]
          },
          "metadata": {},
          "execution_count": 5
        },
        {
          "output_type": "display_data",
          "data": {
            "text/plain": [
              "<Figure size 432x432 with 3 Axes>"
            ],
            "image/png": "[encoded data removed]"
          },
          "metadata": {
            "needs_background": "light"
          }
        }
      ]
    },
    {
      "cell_type": "markdown",
      "source": [
        "**Method #1. Implementation of k-means from Bid Ideas with little code.**"
      ],
      "metadata": {
        "id": "LFSRIeTudmG4"
      }
    },
    {
      "cell_type": "code",
      "source": [
        "data = np.array(iris.data)\n",
        "tuples = [tuple(x) for x in data]"
      ],
      "metadata": {
        "id": "my16CqPN_j4L",
        "colab": {
          "base_uri": "https://localhost:8080/"
        },
        "outputId": "b1a07969-4a7c-42e2-bf42-5405fde82799"
      },
      "execution_count": 10,
      "outputs": [
        {
          "output_type": "execute_result",
          "data": {
            "text/plain": [
              "[(5.1, 3.5, 1.4, 0.2),\n",
              " (4.9, 3.0, 1.4, 0.2),\n",
              " (4.7, 3.2, 1.3, 0.2),\n",
              " (4.6, 3.1, 1.5, 0.2),\n",
              " (5.0, 3.6, 1.4, 0.2),\n",
              " (5.4, 3.9, 1.7, 0.4),\n",
              " (4.6, 3.4, 1.4, 0.3),\n",
              " (5.0, 3.4, 1.5, 0.2),\n",
              " (4.4, 2.9, 1.4, 0.2),\n",
              " (4.9, 3.1, 1.5, 0.1),\n",
              " (5.4, 3.7, 1.5, 0.2),\n",
              " (4.8, 3.4, 1.6, 0.2),\n",
              " (4.8, 3.0, 1.4, 0.1),\n",
              " (4.3, 3.0, 1.1, 0.1),\n",
              " (5.8, 4.0, 1.2, 0.2),\n",
              " (5.7, 4.4, 1.5, 0.4),\n",
              " (5.4, 3.9, 1.3, 0.4),\n",
              " (5.1, 3.5, 1.4, 0.3),\n",
              " (5.7, 3.8, 1.7, 0.3),\n",
              " (5.1, 3.8, 1.5, 0.3),\n",
              " (5.4, 3.4, 1.7, 0.2),\n",
              " (5.1, 3.7, 1.5, 0.4),\n",
              " (4.6, 3.6, 1.0, 0.2),\n",
              " (5.1, 3.3, 1.7, 0.5),\n",
              " (4.8, 3.4, 1.9, 0.2),\n",
              " (5.0, 3.0, 1.6, 0.2),\n",
              " (5.0, 3.4, 1.6, 0.4),\n",
              " (5.2, 3.5, 1.5, 0.2),\n",
              " (5.2, 3.4, 1.4, 0.2),\n",
              " (4.7, 3.2, 1.6, 0.2),\n",
              " (4.8, 3.1, 1.6, 0.2),\n",
              " (5.4, 3.4, 1.5, 0.4),\n",
              " (5.2, 4.1, 1.5, 0.1),\n",
              " (5.5, 4.2, 1.4, 0.2),\n",
              " (4.9, 3.1, 1.5, 0.2),\n",
              " (5.0, 3.2, 1.2, 0.2),\n",
              " (5.5, 3.5, 1.3, 0.2),\n",
              " (4.9, 3.6, 1.4, 0.1),\n",
              " (4.4, 3.0, 1.3, 0.2),\n",
              " (5.1, 3.4, 1.5, 0.2),\n",
              " (5.0, 3.5, 1.3, 0.3),\n",
              " (4.5, 2.3, 1.3, 0.3),\n",
              " (4.4, 3.2, 1.3, 0.2),\n",
              " (5.0, 3.5, 1.6, 0.6),\n",
              " (5.1, 3.8, 1.9, 0.4),\n",
              " (4.8, 3.0, 1.4, 0.3),\n",
              " (5.1, 3.8, 1.6, 0.2),\n",
              " (4.6, 3.2, 1.4, 0.2),\n",
              " (5.3, 3.7, 1.5, 0.2),\n",
              " (5.0, 3.3, 1.4, 0.2),\n",
              " (7.0, 3.2, 4.7, 1.4),\n",
              " (6.4, 3.2, 4.5, 1.5),\n",
              " (6.9, 3.1, 4.9, 1.5),\n",
              " (5.5, 2.3, 4.0, 1.3),\n",
              " (6.5, 2.8, 4.6, 1.5),\n",
              " (5.7, 2.8, 4.5, 1.3),\n",
              " (6.3, 3.3, 4.7, 1.6),\n",
              " (4.9, 2.4, 3.3, 1.0),\n",
              " (6.6, 2.9, 4.6, 1.3),\n",
              " (5.2, 2.7, 3.9, 1.4),\n",
              " (5.0, 2.0, 3.5, 1.0),\n",
              " (5.9, 3.0, 4.2, 1.5),\n",
              " (6.0, 2.2, 4.0, 1.0),\n",
              " (6.1, 2.9, 4.7, 1.4),\n",
              " (5.6, 2.9, 3.6, 1.3),\n",
              " (6.7, 3.1, 4.4, 1.4),\n",
              " (5.6, 3.0, 4.5, 1.5),\n",
              " (5.8, 2.7, 4.1, 1.0),\n",
              " (6.2, 2.2, 4.5, 1.5),\n",
              " (5.6, 2.5, 3.9, 1.1),\n",
              " (5.9, 3.2, 4.8, 1.8),\n",
              " (6.1, 2.8, 4.0, 1.3),\n",
              " (6.3, 2.5, 4.9, 1.5),\n",
              " (6.1, 2.8, 4.7, 1.2),\n",
              " (6.4, 2.9, 4.3, 1.3),\n",
              " (6.6, 3.0, 4.4, 1.4),\n",
              " (6.8, 2.8, 4.8, 1.4),\n",
              " (6.7, 3.0, 5.0, 1.7),\n",
              " (6.0, 2.9, 4.5, 1.5),\n",
              " (5.7, 2.6, 3.5, 1.0),\n",
              " (5.5, 2.4, 3.8, 1.1),\n",
              " (5.5, 2.4, 3.7, 1.0),\n",
              " (5.8, 2.7, 3.9, 1.2),\n",
              " (6.0, 2.7, 5.1, 1.6),\n",
              " (5.4, 3.0, 4.5, 1.5),\n",
              " (6.0, 3.4, 4.5, 1.6),\n",
              " (6.7, 3.1, 4.7, 1.5),\n",
              " (6.3, 2.3, 4.4, 1.3),\n",
              " (5.6, 3.0, 4.1, 1.3),\n",
              " (5.5, 2.5, 4.0, 1.3),\n",
              " (5.5, 2.6, 4.4, 1.2),\n",
              " (6.1, 3.0, 4.6, 1.4),\n",
              " (5.8, 2.6, 4.0, 1.2),\n",
              " (5.0, 2.3, 3.3, 1.0),\n",
              " (5.6, 2.7, 4.2, 1.3),\n",
              " (5.7, 3.0, 4.2, 1.2),\n",
              " (5.7, 2.9, 4.2, 1.3),\n",
              " (6.2, 2.9, 4.3, 1.3),\n",
              " (5.1, 2.5, 3.0, 1.1),\n",
              " (5.7, 2.8, 4.1, 1.3),\n",
              " (6.3, 3.3, 6.0, 2.5),\n",
              " (5.8, 2.7, 5.1, 1.9),\n",
              " (7.1, 3.0, 5.9, 2.1),\n",
              " (6.3, 2.9, 5.6, 1.8),\n",
              " (6.5, 3.0, 5.8, 2.2),\n",
              " (7.6, 3.0, 6.6, 2.1),\n",
              " (4.9, 2.5, 4.5, 1.7),\n",
              " (7.3, 2.9, 6.3, 1.8),\n",
              " (6.7, 2.5, 5.8, 1.8),\n",
              " (7.2, 3.6, 6.1, 2.5),\n",
              " (6.5, 3.2, 5.1, 2.0),\n",
              " (6.4, 2.7, 5.3, 1.9),\n",
              " (6.8, 3.0, 5.5, 2.1),\n",
              " (5.7, 2.5, 5.0, 2.0),\n",
              " (5.8, 2.8, 5.1, 2.4),\n",
              " (6.4, 3.2, 5.3, 2.3),\n",
              " (6.5, 3.0, 5.5, 1.8),\n",
              " (7.7, 3.8, 6.7, 2.2),\n",
              " (7.7, 2.6, 6.9, 2.3),\n",
              " (6.0, 2.2, 5.0, 1.5),\n",
              " (6.9, 3.2, 5.7, 2.3),\n",
              " (5.6, 2.8, 4.9, 2.0),\n",
              " (7.7, 2.8, 6.7, 2.0),\n",
              " (6.3, 2.7, 4.9, 1.8),\n",
              " (6.7, 3.3, 5.7, 2.1),\n",
              " (7.2, 3.2, 6.0, 1.8),\n",
              " (6.2, 2.8, 4.8, 1.8),\n",
              " (6.1, 3.0, 4.9, 1.8),\n",
              " (6.4, 2.8, 5.6, 2.1),\n",
              " (7.2, 3.0, 5.8, 1.6),\n",
              " (7.4, 2.8, 6.1, 1.9),\n",
              " (7.9, 3.8, 6.4, 2.0),\n",
              " (6.4, 2.8, 5.6, 2.2),\n",
              " (6.3, 2.8, 5.1, 1.5),\n",
              " (6.1, 2.6, 5.6, 1.4),\n",
              " (7.7, 3.0, 6.1, 2.3),\n",
              " (6.3, 3.4, 5.6, 2.4),\n",
              " (6.4, 3.1, 5.5, 1.8),\n",
              " (6.0, 3.0, 4.8, 1.8),\n",
              " (6.9, 3.1, 5.4, 2.1),\n",
              " (6.7, 3.1, 5.6, 2.4),\n",
              " (6.9, 3.1, 5.1, 2.3),\n",
              " (5.8, 2.7, 5.1, 1.9),\n",
              " (6.8, 3.2, 5.9, 2.3),\n",
              " (6.7, 3.3, 5.7, 2.5),\n",
              " (6.7, 3.0, 5.2, 2.3),\n",
              " (6.3, 2.5, 5.0, 1.9),\n",
              " (6.5, 3.0, 5.2, 2.0),\n",
              " (6.2, 3.4, 5.4, 2.3),\n",
              " (5.9, 3.0, 5.1, 1.8)]"
            ]
          },
          "metadata": {},
          "execution_count": 10
        }
      ]
    },
    {
      "cell_type": "code",
      "source": [
        "from typing import Tuple, Iterable, Sequence, List, Dict, DefaultDict\n",
        "from random import sample\n",
        "from math import fsum, sqrt\n",
        "from collections import defaultdict\n",
        "from functools import partial \n",
        "\n",
        "def mean(data):\n",
        "    'Accurate arithmetic mean'\n",
        "    data = list(data)\n",
        "    return fsum(data) / len(data)\n",
        "\n",
        "def transpose(matrix):\n",
        "    'Swap rows with columns for a 2-D array'\n",
        "    return zip(*matrix)\n",
        "\n",
        "\n",
        "def dist(p, q):\n",
        "    'Multi-dimensional euclidean distance'\n",
        "    return sqrt(sum((x1 - x2) ** 2 for x1, x2 in zip(p, q)))\n",
        "\n",
        "def assign_data(centroids, data):\n",
        "    'Assign data the closest centroid'\n",
        "    d = defaultdict(list)\n",
        "    for point in data:\n",
        "        centroid = min(centroids, key=partial(dist, point))\n",
        "        d[centroid].append(point)\n",
        "    return dict(d)\n",
        "\n",
        "def compute_centroids(groups):\n",
        "    'Compute the centroid of each group'\n",
        "    return [tuple(map(mean, transpose(group))) for group in groups]\n",
        "\n",
        "def k_means(data, k, iterations):\n",
        "    'Return k-centroids for the data'\n",
        "    data = list(data)\n",
        "    centroids = sample(data, k)\n",
        "    for i in range(iterations):\n",
        "        labeled = assign_data(centroids, data)\n",
        "        centroids = compute_centroids(labeled.values())\n",
        "    return centroids\n",
        "\n",
        "def quality(labeled):\n",
        "    'Mean value of squared distances from data to its assigned centroid'\n",
        "    return mean(dist(c, p) ** 2 for c, pts in labeled.items() for p in pts)"
      ],
      "metadata": {
        "id": "_F3eol4BCkM-"
      },
      "execution_count": 13,
      "outputs": []
    },
    {
      "cell_type": "code",
      "source": [
        "    quality_check = []\n",
        "    for k in range(1, 11):\n",
        "        centroids = k_means(tuples, k, 100)\n",
        "        d = assign_data(centroids, data)\n",
        "        print(f'{k}  {quality(d) :8,.1f}')\n",
        "        quality_check.append(round(quality(d), 2))\n",
        "    quality_check\n",
        "    "
      ],
      "metadata": {
        "colab": {
          "base_uri": "https://localhost:8080/"
        },
        "id": "9kCB22b8GekW",
        "outputId": "89e625aa-854b-4222-edd0-ed35e3419e8d"
      },
      "execution_count": 25,
      "outputs": [
        {
          "output_type": "stream",
          "name": "stdout",
          "text": [
            "1       4.5\n",
            "2       1.0\n",
            "3       0.5\n",
            "4       0.5\n",
            "5       0.3\n",
            "6       0.3\n",
            "7       0.2\n",
            "8       0.2\n",
            "9       0.2\n",
            "10       0.2\n"
          ]
        },
        {
          "output_type": "execute_result",
          "data": {
            "text/plain": [
              "[4.54, 1.02, 0.53, 0.48, 0.33, 0.32, 0.23, 0.24, 0.19, 0.22]"
            ]
          },
          "metadata": {},
          "execution_count": 25
        }
      ]
    },
    {
      "cell_type": "code",
      "source": [
        "plt.figure(figsize=(10, 8))\n",
        "plt.plot(range(1, 11), quality_check)\n",
        "plt.title('The elbow method')\n",
        "plt.xlabel('Number of clusters')\n",
        "plt.ylabel('Mean dist**2')\n",
        "plt.show()"
      ],
      "metadata": {
        "colab": {
          "base_uri": "https://localhost:8080/",
          "height": 513
        },
        "id": "vPYtXAZ6rusD",
        "outputId": "5a196fcc-883e-44c7-b387-efbc99e00eea"
      },
      "execution_count": 26,
      "outputs": [
        {
          "output_type": "display_data",
          "data": {
            "text/plain": [
              "<Figure size 720x576 with 1 Axes>"
            ],
            "image/png": "[encoded data removed]"
          },
          "metadata": {
            "needs_background": "light"
          }
        }
      ]
    },
    {
      "cell_type": "markdown",
      "source": [
        "I don't know how to fix zip argument problem. Couldn't figure out from Stackoverflow."
      ],
      "metadata": {
        "id": "BOuxMfDId14Q"
      }
    },
    {
      "cell_type": "markdown",
      "source": [
        "**Methond #2. KMeans fucntion from Sklearn**"
      ],
      "metadata": {
        "id": "DAYkt727dbFD"
      }
    },
    {
      "cell_type": "code",
      "source": [
        "from sklearn.cluster import KMeans\n",
        "wcss = [] #empty list for Within-Cluster Sum of Square for each number of cluster\n",
        "x = df.iloc[:, [0, 1, 2, 3]].values #data cut that stores only values from iris dataset\n",
        "for i in range(1, 11): #for loop with standard Kmeans() function\n",
        "    kmeans = KMeans(n_clusters = i, init = 'k-means++', max_iter = 300, n_init = 10, random_state = 0)\n",
        "    kmeans.fit(x)\n",
        "    wcss.append(kmeans.inertia_) #append WCSS to the list for each number of cluster"
      ],
      "metadata": {
        "id": "x1DhxVVjHhRv"
      },
      "execution_count": null,
      "outputs": []
    },
    {
      "cell_type": "code",
      "source": [
        "plt.figure(figsize=(10, 8))\n",
        "plt.plot(range(1, 11), wcss)\n",
        "plt.title('The elbow method')\n",
        "plt.xlabel('Number of clusters')\n",
        "plt.ylabel('WCSS')\n",
        "plt.show()"
      ],
      "metadata": {
        "id": "-KwdyEikSVjT"
      },
      "execution_count": null,
      "outputs": []
    },
    {
      "cell_type": "markdown",
      "source": [
        "The best number of clusters = 3."
      ],
      "metadata": {
        "id": "Y4ohiPnHfGF9"
      }
    },
    {
      "cell_type": "markdown",
      "source": [
        "**Method #3. From scratch, but with fixed number of clusters and based on means**"
      ],
      "metadata": {
        "id": "gVoy6R7XfJaZ"
      }
    },
    {
      "cell_type": "code",
      "source": [
        "df3 = pd.DataFrame({\n",
        "    'x': iris.data[:, 0],\n",
        "    'y': iris.data[:, 1],\n",
        "    'z': iris.data[:, 2],\n",
        "    'q': iris.data[:, 3],\n",
        "    'cluster': iris.target\n",
        "})\n",
        "df3.head()"
      ],
      "metadata": {
        "id": "-DfG5W0lfR2i"
      },
      "execution_count": null,
      "outputs": []
    },
    {
      "cell_type": "code",
      "source": [
        "centroids = {}\n",
        "k = 3\n",
        "for i in range(k):\n",
        "  result = []\n",
        "  result.append(df3.loc[df3['cluster']== i]['x'].mean())\n",
        "  result.append(df3.loc[df3['cluster']== i]['y'].mean())\n",
        "  result.append(df3.loc[df3['cluster']== i]['z'].mean())\n",
        "  result.append(df3.loc[df3['cluster']== i]['q'].mean())\n",
        "  centroids[i] = result\n",
        "\n",
        "centroids"
      ],
      "metadata": {
        "id": "DUlRTcGif9fD"
      },
      "execution_count": null,
      "outputs": []
    },
    {
      "cell_type": "code",
      "source": [
        "colmap = {0: 'r', 1: 'g', 2: 'b'}\n",
        "def assignment_data(df, centroids):\n",
        "  for i in range(3):\n",
        "    df['distance_from_{}'.format(i)] = (\n",
        "        np.sqrt(\n",
        "            (df['x'] - centroids[i][0])**2\n",
        "            +(df['y'] - centroids[i][1])**2\n",
        "            +(df['z'] - centroids[i][2])**2\n",
        "            +(df['q'] - centroids[i][3])**2\n",
        "        )\n",
        "    )\n",
        "  #making list for 3 columns with 'distance_from_i' for range 3\n",
        "  centroids_dist_cols = ['distance_from_{}'.format(i) for i in range(3)]\n",
        "  #choose minimum distance\n",
        "  df['closest'] = df[centroids_dist_cols].idxmin(axis=1)\n",
        "  #delete 'distance_from' and make int(i) from 'distance_from_i'\n",
        "  df['closest'] = df['closest'].map(lambda x: int(x.lstrip('distance_from_')))\n",
        "  #set the color for the new cluster group\n",
        "  df['color'] = df['closest'].map(lambda x: colmap[x])\n",
        "  return df"
      ],
      "metadata": {
        "id": "lpbhPQZagkBb"
      },
      "execution_count": null,
      "outputs": []
    },
    {
      "cell_type": "code",
      "source": [
        "assigned_df = assignment_data(df3, centroids)\n",
        "assigned_df.head()"
      ],
      "metadata": {
        "id": "mQ0IRlrpjbB8"
      },
      "execution_count": null,
      "outputs": []
    },
    {
      "cell_type": "code",
      "source": [
        "assigned_df.groupby('closest')['closest'].count()"
      ],
      "metadata": {
        "id": "RD66Ndxljnd8"
      },
      "execution_count": null,
      "outputs": []
    },
    {
      "cell_type": "code",
      "source": [
        "plt.figure(figsize=(8,8))\n",
        "plt.scatter(assigned_df['x'], assigned_df['y'], color = assigned_df['color'])\n",
        "for i in range(3):\n",
        "  plt.plot(centroids[i][0], centroids[i][1], marker = '*', markersize=20, color = colmap[i], markeredgecolor = 'black')\n",
        "plt.show()"
      ],
      "metadata": {
        "id": "JZ5Wk-cDm__9"
      },
      "execution_count": null,
      "outputs": []
    },
    {
      "cell_type": "code",
      "source": [
        "plt.figure(figsize=(8,8))\n",
        "plt.scatter(assigned_df['z'], assigned_df['q'], color = assigned_df['color'])\n",
        "for i in range(3):\n",
        "  plt.plot(centroids[i][2], centroids[i][3], marker = '*', markersize=20, color = colmap[i], markeredgecolor = 'black')\n",
        "plt.show()"
      ],
      "metadata": {
        "id": "jJ9CWWPtodtk"
      },
      "execution_count": null,
      "outputs": []
    },
    {
      "cell_type": "code",
      "source": [
        ""
      ],
      "metadata": {
        "id": "FMNJ8sAuqeIF"
      },
      "execution_count": null,
      "outputs": []
    }
  ],
  "metadata": {
    "colab": {
      "collapsed_sections": [],
      "name": "DWPP_1.ipynb",
      "provenance": []
    },
    "kernelspec": {
      "display_name": "Python 3",
      "language": "python",
      "name": "python3"
    },
    "language_info": {
      "codemirror_mode": {
        "name": "ipython",
        "version": 3
      },
      "file_extension": ".py",
      "mimetype": "text/x-python",
      "name": "python",
      "nbconvert_exporter": "python",
      "pygments_lexer": "ipython3",
      "version": "3.7.7"
    }
  },
  "nbformat": 4,
  "nbformat_minor": 0
}